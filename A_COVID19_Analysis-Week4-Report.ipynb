{
 "cells": [
  {
   "cell_type": "markdown",
   "metadata": {},
   "source": [
    "# A COVID-19 Analysis (week 4 report)\n",
    "\n",
    "## Background\n",
    "\n",
    "Based on the information at the Panamerican Health Organization site(https://www.paho.org/bra/index.php?option=com_content&view=article&id=6101:covid19&Itemid=875):  \n",
    "The World Health Organization (WHO) declared, on January 30, 2020, that the outbreak of the disease caused by the new coronavirus (COVID-19) constitutes a Public Health Emergency of International Importance - the Organization's highest alert level, as provided at the International Health Regulations. On March 11, 2020, COVID-19 was characterized by WHO as a pandemic.\n",
    "\n",
    "## The problem\n",
    "\n",
    "Through the data analysis I'll try to show the main epicenters of virus discemination and the places that are potencially related to that problem, but to be more  concise and practical, the analysis will be centered in the city that I live, São Paulo.  \n",
    "The aim of this work is to be the more practical as possible and, because the theme is so delicate, I'm not trying to take any precipitated conclusions nor find any guilted subjects.  \n",
    "At the end of the work I hope that the audience could take their own decisions with a little more knowledge over the situation.  \n",
    "\n",
    "## The data\n",
    "\n",
    "In that work I'll try to explore some datasets related with the virus and the disease that it causes. \n",
    "The main data, used in the analysis, will be downloaded from the government sites, but some information (related to the districts bondaries) are downloaded from other sources and previous stored on my GitHub account.  \n",
    "\n",
    "#### Demografic data:\n",
    "https://www.prefeitura.sp.gov.br/cidade/secretarias/subprefeituras/subprefeituras/dados_demograficos/index.php\n",
    "\n",
    "This data will be obtained using BeaultifulSoup as data scraping tool.\n",
    "This data is relevant to us to demonstrate that the virus discemination is related to the populational density of the districts.\n",
    "\n",
    "#### District boundaries data:\n",
    "https://artefolha.carto.com/tables/distritos_sp/public/map\n",
    "\n",
    "\n",
    "The site offers a link to download the geojson of the city we're analysing.\n",
    "The data was downloaded and stored at my GitHub repository to be used on the Jupiter Notebook:\n",
    "https://raw.githubusercontent.com/UgoCesar19/Coursera_Capstone/master/distritos_sp.geojson\n",
    "\n",
    "That data will be used to plot the populational density, using cloropleth map with folium.\n",
    "\n",
    "#### Covid data:\n",
    "https://opendatasus.saude.gov.br/dataset/casos-nacionais\n",
    "\n",
    "This is the core of this work.\n",
    "This is the government data about Flu Syndrome, and tests on COVID-19.\n",
    "The data have been updated from monday to fryday.\n",
    "We'll usse that data to discover the number of confirmed cases, by week, by day, by neighborhood, and to obtain the geospatial data through geopy.\n",
    "\n",
    "#### Venues data:\n",
    "Here we'll use the Foursquare API to obtain the main places among each neighborhood that reported COVID-19 cases that are potentiially active."
   ]
  },
  {
   "cell_type": "code",
   "execution_count": null,
   "metadata": {},
   "outputs": [],
   "source": []
  }
 ],
 "metadata": {
  "kernelspec": {
   "display_name": "Python",
   "language": "python",
   "name": "conda-env-python-py"
  },
  "language_info": {
   "codemirror_mode": {
    "name": "ipython",
    "version": 3
   },
   "file_extension": ".py",
   "mimetype": "text/x-python",
   "name": "python",
   "nbconvert_exporter": "python",
   "pygments_lexer": "ipython3",
   "version": "3.6.10"
  }
 },
 "nbformat": 4,
 "nbformat_minor": 4
}
